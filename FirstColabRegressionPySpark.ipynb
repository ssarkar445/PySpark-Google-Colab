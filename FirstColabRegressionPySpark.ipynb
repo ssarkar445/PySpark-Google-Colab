{
  "nbformat": 4,
  "nbformat_minor": 0,
  "metadata": {
    "colab": {
      "name": "FirstColabRegressionPySpark.ipynb",
      "provenance": [],
      "collapsed_sections": []
    },
    "kernelspec": {
      "name": "python3",
      "display_name": "Python 3"
    }
  },
  "cells": [
    {
      "cell_type": "code",
      "metadata": {
        "id": "cCSJz0T4cauU",
        "colab_type": "code",
        "colab": {}
      },
      "source": [
        "# Installing Required Libraries\n",
        "!apt-get install openjdk-8-jdk-headless -qq > /dev/null\n",
        "!wget -q http://mirrors.viethosting.com/apache/spark/spark-2.4.6/spark-2.4.6-bin-hadoop2.7.tgz\n",
        "!tar xf spark-2.4.6-bin-hadoop2.7.tgz\n",
        "!pip install -q findspark"
      ],
      "execution_count": 8,
      "outputs": []
    },
    {
      "cell_type": "code",
      "metadata": {
        "id": "rUtdBLaYdB3x",
        "colab_type": "code",
        "colab": {}
      },
      "source": [
        "# Setting Java And Spark Home Path\n",
        "import os\n",
        "os.environ[\"JAVA_HOME\"] = \"/usr/lib/jvm/java-8-openjdk-amd64\"\n",
        "os.environ[\"SPARK_HOME\"] = \"/content/spark-2.4.6-bin-hadoop2.7\""
      ],
      "execution_count": 10,
      "outputs": []
    },
    {
      "cell_type": "code",
      "metadata": {
        "id": "3d-ebK1moftK",
        "colab_type": "code",
        "colab": {}
      },
      "source": [
        "# Initialize spark session and findspark\n",
        "import findspark\n",
        "findspark.init()\n",
        "from pyspark.sql import SparkSession\n",
        "spark = SparkSession.builder.master(\"local[*]\").getOrCreate()"
      ],
      "execution_count": 11,
      "outputs": []
    },
    {
      "cell_type": "code",
      "metadata": {
        "id": "iX88ZQkPoqDH",
        "colab_type": "code",
        "colab": {
          "base_uri": "https://localhost:8080/",
          "height": 122
        },
        "outputId": "abb2b209-cfb3-4d67-d59d-d4b26f6f88d7"
      },
      "source": [
        "# Colab Specific to load data from drive\n",
        "from google.colab import drive\n",
        "drive.mount('/content/drive')"
      ],
      "execution_count": 12,
      "outputs": [
        {
          "output_type": "stream",
          "text": [
            "Go to this URL in a browser: https://accounts.google.com/o/oauth2/auth?client_id=947318989803-6bn6qk8qdgf4n4g3pfee6491hc0brc4i.apps.googleusercontent.com&redirect_uri=urn%3aietf%3awg%3aoauth%3a2.0%3aoob&response_type=code&scope=email%20https%3a%2f%2fwww.googleapis.com%2fauth%2fdocs.test%20https%3a%2f%2fwww.googleapis.com%2fauth%2fdrive%20https%3a%2f%2fwww.googleapis.com%2fauth%2fdrive.photos.readonly%20https%3a%2f%2fwww.googleapis.com%2fauth%2fpeopleapi.readonly\n",
            "\n",
            "Enter your authorization code:\n",
            "··········\n",
            "Mounted at /content/drive\n"
          ],
          "name": "stdout"
        }
      ]
    },
    {
      "cell_type": "code",
      "metadata": {
        "id": "fLv-V_7XsR-k",
        "colab_type": "code",
        "colab": {}
      },
      "source": [
        "# Importing all the libraries\n",
        "\n",
        "from pyspark.ml import feature\n",
        "from pyspark.ml import regression"
      ],
      "execution_count": 53,
      "outputs": []
    },
    {
      "cell_type": "code",
      "metadata": {
        "id": "1yTn2LhNoxyH",
        "colab_type": "code",
        "colab": {
          "base_uri": "https://localhost:8080/",
          "height": 204
        },
        "outputId": "d643e115-5fd1-4643-c231-fbf2b9ed5202"
      },
      "source": [
        "# Reading csv in spark and view records\n",
        "sdf = spark.read.csv('/content/drive/My Drive/CrossValidation_And_HyperParam/train.csv', header=True, inferSchema=True)\n",
        "sdf.show(5)"
      ],
      "execution_count": 16,
      "outputs": [
        {
          "output_type": "stream",
          "text": [
            "+-------------+----+-----------+--------+---+------+----------+-----+---------+-------+---+---------+--------+----+----+----+---------+-------+------------+----+-----------+\n",
            "|battery_power|blue|clock_speed|dual_sim| fc|four_g|int_memory|m_dep|mobile_wt|n_cores| pc|px_height|px_width| ram|sc_h|sc_w|talk_time|three_g|touch_screen|wifi|price_range|\n",
            "+-------------+----+-----------+--------+---+------+----------+-----+---------+-------+---+---------+--------+----+----+----+---------+-------+------------+----+-----------+\n",
            "|          842|   0|        2.2|       0|  1|     0|         7|  0.6|      188|      2|  2|       20|     756|2549|   9|   7|       19|      0|           0|   1|          1|\n",
            "|         1021|   1|        0.5|       1|  0|     1|        53|  0.7|      136|      3|  6|      905|    1988|2631|  17|   3|        7|      1|           1|   0|          2|\n",
            "|          563|   1|        0.5|       1|  2|     1|        41|  0.9|      145|      5|  6|     1263|    1716|2603|  11|   2|        9|      1|           1|   0|          2|\n",
            "|          615|   1|        2.5|       0|  0|     0|        10|  0.8|      131|      6|  9|     1216|    1786|2769|  16|   8|       11|      1|           0|   0|          2|\n",
            "|         1821|   1|        1.2|       0| 13|     1|        44|  0.6|      141|      2| 14|     1208|    1212|1411|   8|   2|       15|      1|           1|   0|          1|\n",
            "+-------------+----+-----------+--------+---+------+----------+-----+---------+-------+---+---------+--------+----+----+----+---------+-------+------------+----+-----------+\n",
            "only showing top 5 rows\n",
            "\n"
          ],
          "name": "stdout"
        }
      ]
    },
    {
      "cell_type": "code",
      "metadata": {
        "id": "t0IAPCbwqsnM",
        "colab_type": "code",
        "colab": {
          "base_uri": "https://localhost:8080/",
          "height": 408
        },
        "outputId": "07cc9c99-d013-4cf6-c761-b9809dd8d88f"
      },
      "source": [
        "sdf.printSchema()"
      ],
      "execution_count": 17,
      "outputs": [
        {
          "output_type": "stream",
          "text": [
            "root\n",
            " |-- battery_power: integer (nullable = true)\n",
            " |-- blue: integer (nullable = true)\n",
            " |-- clock_speed: double (nullable = true)\n",
            " |-- dual_sim: integer (nullable = true)\n",
            " |-- fc: integer (nullable = true)\n",
            " |-- four_g: integer (nullable = true)\n",
            " |-- int_memory: integer (nullable = true)\n",
            " |-- m_dep: double (nullable = true)\n",
            " |-- mobile_wt: integer (nullable = true)\n",
            " |-- n_cores: integer (nullable = true)\n",
            " |-- pc: integer (nullable = true)\n",
            " |-- px_height: integer (nullable = true)\n",
            " |-- px_width: integer (nullable = true)\n",
            " |-- ram: integer (nullable = true)\n",
            " |-- sc_h: integer (nullable = true)\n",
            " |-- sc_w: integer (nullable = true)\n",
            " |-- talk_time: integer (nullable = true)\n",
            " |-- three_g: integer (nullable = true)\n",
            " |-- touch_screen: integer (nullable = true)\n",
            " |-- wifi: integer (nullable = true)\n",
            " |-- price_range: integer (nullable = true)\n",
            "\n"
          ],
          "name": "stdout"
        }
      ]
    },
    {
      "cell_type": "code",
      "metadata": {
        "id": "zZy5tIhTq-Ub",
        "colab_type": "code",
        "colab": {}
      },
      "source": [
        "# Creating array of independent variable as this is how pyspark sxpects\n",
        "feature_columns = sdf.columns[:-1]\n",
        "vector_assembler = feature.VectorAssembler(inputCols=feature_columns, outputCol='features')"
      ],
      "execution_count": 27,
      "outputs": []
    },
    {
      "cell_type": "code",
      "metadata": {
        "id": "FnxDPKvcr4n-",
        "colab_type": "code",
        "colab": {}
      },
      "source": [
        "data_w_features = vector_assembler.transform(sdf)"
      ],
      "execution_count": 30,
      "outputs": []
    },
    {
      "cell_type": "code",
      "metadata": {
        "id": "ZHXV3x24r8-p",
        "colab_type": "code",
        "colab": {
          "base_uri": "https://localhost:8080/",
          "height": 204
        },
        "outputId": "d0246c92-7295-402a-d522-f72651096687"
      },
      "source": [
        "sdf_final = data_w_features.select('features','price_range')\n",
        "sdf_final.show(5)"
      ],
      "execution_count": 43,
      "outputs": [
        {
          "output_type": "stream",
          "text": [
            "+--------------------+-----------+\n",
            "|            features|price_range|\n",
            "+--------------------+-----------+\n",
            "|[842.0,0.0,2.2,0....|          1|\n",
            "|[1021.0,1.0,0.5,1...|          2|\n",
            "|[563.0,1.0,0.5,1....|          2|\n",
            "|[615.0,1.0,2.5,0....|          2|\n",
            "|[1821.0,1.0,1.2,0...|          1|\n",
            "+--------------------+-----------+\n",
            "only showing top 5 rows\n",
            "\n"
          ],
          "name": "stdout"
        }
      ]
    },
    {
      "cell_type": "code",
      "metadata": {
        "id": "aL48hesJtIGQ",
        "colab_type": "code",
        "colab": {}
      },
      "source": [
        "# Spliting the data into train and test split\n",
        "train_sdf, test_sdf = sdf_final.randomSplit([0.7, 0.3])"
      ],
      "execution_count": 46,
      "outputs": []
    },
    {
      "cell_type": "code",
      "metadata": {
        "id": "B6275WfExd2H",
        "colab_type": "code",
        "colab": {
          "base_uri": "https://localhost:8080/",
          "height": 187
        },
        "outputId": "38ddf72d-be72-4a01-f8de-747dff7103f5"
      },
      "source": [
        "# Checking the summary for train dataframe\n",
        "train_sdf.describe().show()"
      ],
      "execution_count": 50,
      "outputs": [
        {
          "output_type": "stream",
          "text": [
            "+-------+-----------------+\n",
            "|summary|      price_range|\n",
            "+-------+-----------------+\n",
            "|  count|             1395|\n",
            "|   mean|1.488888888888889|\n",
            "| stddev|1.128278032378756|\n",
            "|    min|                0|\n",
            "|    max|                3|\n",
            "+-------+-----------------+\n",
            "\n"
          ],
          "name": "stdout"
        }
      ]
    },
    {
      "cell_type": "code",
      "metadata": {
        "id": "bEFK4__2xonJ",
        "colab_type": "code",
        "colab": {
          "base_uri": "https://localhost:8080/",
          "height": 187
        },
        "outputId": "00068d26-ba45-43f3-d0a0-2e6406d48aaf"
      },
      "source": [
        "# Checking the summary for test dataframe\n",
        "test_sdf.describe().show()"
      ],
      "execution_count": 51,
      "outputs": [
        {
          "output_type": "stream",
          "text": [
            "+-------+------------------+\n",
            "|summary|       price_range|\n",
            "+-------+------------------+\n",
            "|  count|               605|\n",
            "|   mean|1.5256198347107437|\n",
            "| stddev|1.0954850845478725|\n",
            "|    min|                 0|\n",
            "|    max|                 3|\n",
            "+-------+------------------+\n",
            "\n"
          ],
          "name": "stdout"
        }
      ]
    },
    {
      "cell_type": "code",
      "metadata": {
        "id": "z_iFyQGkyDcY",
        "colab_type": "code",
        "colab": {}
      },
      "source": [
        "# Instantiate Linear Regression and fitting on the train datafeame\n",
        "LinReg  = regression.LinearRegression(featuresCol=\"features\", labelCol=\"price_range\")\n",
        "model = LinReg.fit(train_sdf)"
      ],
      "execution_count": 57,
      "outputs": []
    },
    {
      "cell_type": "code",
      "metadata": {
        "id": "TGDYgnjr5yUT",
        "colab_type": "code",
        "colab": {}
      },
      "source": [
        "# Generating prediction of test_dataframe\n",
        "pred = model.evaluate(test_sdf)\n",
        "pred.predictions.show()"
      ],
      "execution_count": 58,
      "outputs": []
    },
    {
      "cell_type": "code",
      "metadata": {
        "id": "XFywaExe6d45",
        "colab_type": "code",
        "colab": {
          "base_uri": "https://localhost:8080/",
          "height": 34
        },
        "outputId": "6a5e5977-b61b-494e-8bde-5019c5009305"
      },
      "source": [
        "# Printing the model coefficient\n",
        "model.coefficients"
      ],
      "execution_count": 61,
      "outputs": [
        {
          "output_type": "execute_result",
          "data": {
            "text/plain": [
              "DenseVector([0.0005, -0.0059, -0.0148, -0.0252, 0.0007, 0.0054, 0.0008, 0.0084, -0.001, 0.0046, -0.0012, 0.0003, 0.0003, 0.0009, -0.0007, 0.0013, 0.0013, 0.0048, -0.0269, -0.0075])"
            ]
          },
          "metadata": {
            "tags": []
          },
          "execution_count": 61
        }
      ]
    },
    {
      "cell_type": "code",
      "metadata": {
        "id": "nH_AjoCF7Cgv",
        "colab_type": "code",
        "colab": {
          "base_uri": "https://localhost:8080/",
          "height": 34
        },
        "outputId": "d1b668ef-6396-4f91-a8e9-862ed55efb45"
      },
      "source": [
        "# Print the model intercept\n",
        "model.intercept"
      ],
      "execution_count": 62,
      "outputs": [
        {
          "output_type": "execute_result",
          "data": {
            "text/plain": [
              "-1.5553972803756233"
            ]
          },
          "metadata": {
            "tags": []
          },
          "execution_count": 62
        }
      ]
    },
    {
      "cell_type": "code",
      "metadata": {
        "id": "c5c9mGNI7HiP",
        "colab_type": "code",
        "colab": {
          "base_uri": "https://localhost:8080/",
          "height": 85
        },
        "outputId": "2d9a1d46-68ad-424a-cecf-171e3aa57a45"
      },
      "source": [
        "#Evaluate the model using metric like Mean Absolute Error(MAE), Root Mean Square Error(RMSE) and R-Square\n",
        "from pyspark.ml.evaluation import RegressionEvaluator\n",
        "\n",
        "evaluation = RegressionEvaluator(labelCol=\"price_range\", predictionCol=\"prediction\")\n",
        "\n",
        "rmse = evaluation.evaluate(pred.predictions, {evaluation.metricName: \"rmse\"})\n",
        "mse = evaluation.evaluate(pred.predictions, {evaluation.metricName: \"mse\"})\n",
        "mae = evaluation.evaluate(pred.predictions, {evaluation.metricName: \"mae\"})\n",
        "r2 = evaluation.evaluate(pred.predictions, {evaluation.metricName: \"r2\"})\n",
        "\n",
        "\n",
        "print(\"RMSE: %.3f\" % rmse)\n",
        "print(\"MSE: %.3f\" % mse)\n",
        "print(\"MAE: %.3f\" % mae)\n",
        "print(\"r2: %.3f\" %r2)\n"
      ],
      "execution_count": 64,
      "outputs": [
        {
          "output_type": "stream",
          "text": [
            "RMSE: 0.321\n",
            "MSE: 0.103\n",
            "MAE: 0.265\n",
            "r2: 0.914\n"
          ],
          "name": "stdout"
        }
      ]
    },
    {
      "cell_type": "code",
      "metadata": {
        "id": "4EF-FgMk7pB9",
        "colab_type": "code",
        "colab": {}
      },
      "source": [
        ""
      ],
      "execution_count": null,
      "outputs": []
    }
  ]
}